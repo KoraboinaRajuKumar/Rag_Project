{
 "cells": [
  {
   "cell_type": "code",
   "execution_count": 1,
   "id": "115ed542",
   "metadata": {},
   "outputs": [
    {
     "name": "stdout",
     "output_type": "stream",
     "text": [
      "logging\n"
     ]
    }
   ],
   "source": [
    "print(\"logging\")"
   ]
  },
  {
   "cell_type": "code",
   "execution_count": 41,
   "id": "a8305554",
   "metadata": {},
   "outputs": [],
   "source": [
    "import os\n",
    "log_dir=os.path.join(os.getcwd(),\"logs\")"
   ]
  },
  {
   "cell_type": "code",
   "execution_count": 42,
   "id": "e53fbf85",
   "metadata": {},
   "outputs": [
    {
     "data": {
      "text/plain": [
       "'d:\\\\WORK\\\\End_to_End_Projects\\\\Rag_Project\\\\notebook\\\\logs'"
      ]
     },
     "execution_count": 42,
     "metadata": {},
     "output_type": "execute_result"
    }
   ],
   "source": [
    "log_dir"
   ]
  },
  {
   "cell_type": "code",
   "execution_count": 43,
   "id": "7e1b9cba",
   "metadata": {},
   "outputs": [],
   "source": [
    "os.makedirs(log_dir,exist_ok=True)"
   ]
  },
  {
   "cell_type": "code",
   "execution_count": 44,
   "id": "e9d74232",
   "metadata": {},
   "outputs": [],
   "source": [
    "from datetime import datetime\n"
   ]
  },
  {
   "cell_type": "code",
   "execution_count": 45,
   "id": "1b7aa282",
   "metadata": {},
   "outputs": [],
   "source": [
    "LOG_FILE = f\"{datetime.now().strftime('%m_%d_%Y_%H_%M_%S')}.log\""
   ]
  },
  {
   "cell_type": "code",
   "execution_count": 46,
   "id": "1d861bb7",
   "metadata": {},
   "outputs": [
    {
     "data": {
      "text/plain": [
       "'08_05_2025_13_36_23.log'"
      ]
     },
     "execution_count": 46,
     "metadata": {},
     "output_type": "execute_result"
    }
   ],
   "source": [
    "LOG_FILE"
   ]
  },
  {
   "cell_type": "code",
   "execution_count": null,
   "id": "b9b01d28",
   "metadata": {},
   "outputs": [],
   "source": [
    "#today\n",
    "# with today's date log file will be creted\n",
    "\n",
    "#tomorrow\n",
    "# with tomorrow's date log file will be created"
   ]
  },
  {
   "cell_type": "code",
   "execution_count": 47,
   "id": "875829ba",
   "metadata": {},
   "outputs": [],
   "source": [
    "LOG_FILE_PATH=os.path.join(log_dir, LOG_FILE)"
   ]
  },
  {
   "cell_type": "code",
   "execution_count": 48,
   "id": "4f71968d",
   "metadata": {},
   "outputs": [
    {
     "data": {
      "text/plain": [
       "'d:\\\\WORK\\\\End_to_End_Projects\\\\Rag_Project\\\\notebook\\\\logs\\\\08_05_2025_13_36_23.log'"
      ]
     },
     "execution_count": 48,
     "metadata": {},
     "output_type": "execute_result"
    }
   ],
   "source": [
    "LOG_FILE_PATH"
   ]
  },
  {
   "cell_type": "code",
   "execution_count": 49,
   "id": "70dae9b1",
   "metadata": {},
   "outputs": [],
   "source": [
    "import logging\n",
    "logging.basicConfig(\n",
    "    filename=LOG_FILE_PATH,\n",
    "    format=\"[ %(asctime)s ] %(levelname)s %(name)s (line:%(lineno)d) - %(message)s\",\n",
    "    level=logging.INFO,\n",
    ")\n"
   ]
  },
  {
   "cell_type": "code",
   "execution_count": 50,
   "id": "b4feb5e4",
   "metadata": {},
   "outputs": [],
   "source": [
    "logger=logging.getLogger(\"Rag app\")"
   ]
  },
  {
   "cell_type": "code",
   "execution_count": 51,
   "id": "f16d1a8a",
   "metadata": {},
   "outputs": [],
   "source": [
    "logger.info(\"This is an info message\")"
   ]
  }
 ],
 "metadata": {
  "kernelspec": {
   "display_name": "myenv (3.11.7)",
   "language": "python",
   "name": "python3"
  },
  "language_info": {
   "codemirror_mode": {
    "name": "ipython",
    "version": 3
   },
   "file_extension": ".py",
   "mimetype": "text/x-python",
   "name": "python",
   "nbconvert_exporter": "python",
   "pygments_lexer": "ipython3",
   "version": "3.11.7"
  }
 },
 "nbformat": 4,
 "nbformat_minor": 5
}
